{
 "metadata": {
  "name": "",
  "signature": "sha256:619b35f050532ffd52200f265b1376cf37296d03392e0378ee80fb7fc6a17490"
 },
 "nbformat": 3,
 "nbformat_minor": 0,
 "worksheets": [
  {
   "cells": [
    {
     "cell_type": "code",
     "collapsed": false,
     "input": [
      "from flatline.interpreter import Interpreter"
     ],
     "language": "python",
     "metadata": {},
     "outputs": []
    },
    {
     "cell_type": "code",
     "collapsed": false,
     "input": [
      "interpreter = Interpreter()"
     ],
     "language": "python",
     "metadata": {},
     "outputs": []
    },
    {
     "cell_type": "code",
     "collapsed": false,
     "input": [
      "interpreter.check_lisp('(+ 1 2)')"
     ],
     "language": "python",
     "metadata": {},
     "outputs": []
    },
    {
     "cell_type": "code",
     "collapsed": false,
     "input": [
      "interpreter.check_lisp('(+ 2')"
     ],
     "language": "python",
     "metadata": {},
     "outputs": []
    },
    {
     "cell_type": "code",
     "collapsed": false,
     "input": [
      "field_access = '(f 0)'\n",
      "interpreter.check_lisp(field_access)"
     ],
     "language": "python",
     "metadata": {},
     "outputs": []
    },
    {
     "cell_type": "code",
     "collapsed": false,
     "input": [
      "mock_dataset = {'dataset':{'fields': Interpreter.infer_fields([1, 'a'])}}\n",
      "mock_dataset"
     ],
     "language": "python",
     "metadata": {},
     "outputs": []
    },
    {
     "cell_type": "code",
     "collapsed": false,
     "input": [
      "interpreter.check_lisp(field_access, mock_dataset)"
     ],
     "language": "python",
     "metadata": {},
     "outputs": []
    },
    {
     "cell_type": "code",
     "collapsed": false,
     "input": [
      "test_rows = [[1, 'a'], [2, 'b'], [23, 'd']]\n",
      "interpreter.apply_lisp(field_access, test_rows)"
     ],
     "language": "python",
     "metadata": {},
     "outputs": []
    },
    {
     "cell_type": "code",
     "collapsed": false,
     "input": [
      "simple_arith = '(list (+ 2 (f 0))'\n",
      "interpreter.apply_lisp(simple_arith, test_rows)"
     ],
     "language": "python",
     "metadata": {},
     "outputs": []
    },
    {
     "cell_type": "code",
     "collapsed": false,
     "input": [
      "from bigml.api import BigML\n",
      "import os\n",
      "username = os.environ['BIGML_USERNAME']\n",
      "api_key = os.environ['BIGML_API_KEY']\n",
      "api = BigML(username=username, api_key=api_key)\n",
      "datasets = api.list_datasets()['objects']"
     ],
     "language": "python",
     "metadata": {},
     "outputs": []
    },
    {
     "cell_type": "code",
     "collapsed": false,
     "input": [
      "full_datasets = [api.get_dataset(d['resource'])['object'] for d in datasets[2:5]]"
     ],
     "language": "python",
     "metadata": {},
     "outputs": []
    },
    {
     "cell_type": "code",
     "collapsed": false,
     "input": [
      "interpreter.apply_lisp('(f 4)', [['a', 'b', 'c', 'd', 3]], dataset=full_datasets[0])"
     ],
     "language": "python",
     "metadata": {},
     "outputs": []
    },
    {
     "cell_type": "code",
     "collapsed": false,
     "input": [
      "interpreter.apply_lisp('(* 2 (f 4)))', [['a', None, None, None, 3]], dataset=full_datasets[0])"
     ],
     "language": "python",
     "metadata": {},
     "outputs": []
    },
    {
     "cell_type": "code",
     "collapsed": false,
     "input": [],
     "language": "python",
     "metadata": {},
     "outputs": []
    }
   ],
   "metadata": {}
  }
 ]
}