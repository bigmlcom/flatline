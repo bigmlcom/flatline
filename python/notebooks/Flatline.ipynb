{
 "metadata": {
  "name": "",
  "signature": "sha256:276aac5d4256f8d1fd32fb7cecddb34d9e4cdf183f37304154e3bcc1673ef27b"
 },
 "nbformat": 3,
 "nbformat_minor": 0,
 "worksheets": [
  {
   "cells": [
    {
     "cell_type": "code",
     "collapsed": false,
     "input": [
      "from flatline.interpreter import Interpreter"
     ],
     "language": "python",
     "metadata": {},
     "outputs": [],
     "prompt_number": 9
    },
    {
     "cell_type": "code",
     "collapsed": false,
     "input": [
      "interpreter = Interpreter()"
     ],
     "language": "python",
     "metadata": {},
     "outputs": [],
     "prompt_number": 10
    },
    {
     "cell_type": "code",
     "collapsed": false,
     "input": [
      "interpreter.defined_functions()"
     ],
     "language": "python",
     "metadata": {},
     "outputs": [
      {
       "metadata": {},
       "output_type": "pyout",
       "prompt_number": 11,
       "text": [
        "[u'',\n",
        " u'!=',\n",
        " u'*',\n",
        " u'+',\n",
        " u'-',\n",
        " u'<',\n",
        " u'<=',\n",
        " u'=',\n",
        " u'>',\n",
        " u'>=',\n",
        " u'abs',\n",
        " u'acos',\n",
        " u'all',\n",
        " u'all-but',\n",
        " u'all-with-defaults',\n",
        " u'all-with-numeric-default',\n",
        " u'and',\n",
        " u'asin',\n",
        " u'atan',\n",
        " u'avg',\n",
        " u'avg-window',\n",
        " u'bin-center',\n",
        " u'bin-count',\n",
        " u'call',\n",
        " u'category-count',\n",
        " u'ceil',\n",
        " u'cond',\n",
        " u'cond-window',\n",
        " u'cons',\n",
        " u'cos',\n",
        " u'cosh',\n",
        " u'count',\n",
        " u'diff-window',\n",
        " u'div',\n",
        " u'ensure-value',\n",
        " u'ensure-weighted-value',\n",
        " u'epoch',\n",
        " u'epoch-day',\n",
        " u'epoch-fields',\n",
        " u'epoch-hour',\n",
        " u'epoch-millisecond',\n",
        " u'epoch-minute',\n",
        " u'epoch-month',\n",
        " u'epoch-second',\n",
        " u'epoch-weekday',\n",
        " u'epoch-year',\n",
        " u'exp',\n",
        " u'f',\n",
        " u'field',\n",
        " u'field-prop',\n",
        " u'fields',\n",
        " u'filter',\n",
        " u'first',\n",
        " u'floor',\n",
        " u'head',\n",
        " u'if',\n",
        " u'in',\n",
        " u'integer',\n",
        " u'language',\n",
        " u'length',\n",
        " u'levenshtein',\n",
        " u'linear-regression',\n",
        " u'list',\n",
        " u'ln',\n",
        " u'log',\n",
        " u'log10',\n",
        " u'map',\n",
        " u'matches',\n",
        " u'matches?',\n",
        " u'max',\n",
        " u'maximum',\n",
        " u'md5',\n",
        " u'mean',\n",
        " u'median',\n",
        " u'min',\n",
        " u'minimum',\n",
        " u'missing',\n",
        " u'missing-count',\n",
        " u'missing?',\n",
        " u'missing_count',\n",
        " u'mod',\n",
        " u'mode',\n",
        " u'normalize',\n",
        " u'not',\n",
        " u'nth',\n",
        " u'occurrences',\n",
        " u'or',\n",
        " u'percentile',\n",
        " u'percentile-label',\n",
        " u'population',\n",
        " u'population-fraction',\n",
        " u'pow',\n",
        " u'preferred',\n",
        " u'preferred?',\n",
        " u'quantile-label',\n",
        " u'rand',\n",
        " u'rand-int',\n",
        " u'random-value',\n",
        " u're-quote',\n",
        " u'real',\n",
        " u'replace',\n",
        " u'replace-first',\n",
        " u'rest',\n",
        " u'round',\n",
        " u'row-number',\n",
        " u'segment-label',\n",
        " u'sha1',\n",
        " u'sha256',\n",
        " u'sin',\n",
        " u'sinh',\n",
        " u'sqrt',\n",
        " u'square',\n",
        " u'standard-deviation',\n",
        " u'standard_deviation',\n",
        " u'str',\n",
        " u'subs',\n",
        " u'sum',\n",
        " u'sum-squares',\n",
        " u'sum-window',\n",
        " u'sum_squares',\n",
        " u'summary',\n",
        " u'summary-no',\n",
        " u'summary-str',\n",
        " u'tail',\n",
        " u'tan',\n",
        " u'tanh',\n",
        " u'to-degrees',\n",
        " u'to-radians',\n",
        " u'variance',\n",
        " u'vectorize',\n",
        " u'weighted-random-value',\n",
        " u'window',\n",
        " u'winnow',\n",
        " u'within-percentiles?',\n",
        " u'z-score']"
       ]
      }
     ],
     "prompt_number": 11
    },
    {
     "cell_type": "code",
     "collapsed": false,
     "input": [
      "interpreter.check_lisp('(+ 1 2)')"
     ],
     "language": "python",
     "metadata": {},
     "outputs": [
      {
       "metadata": {},
       "output_type": "pyout",
       "prompt_number": 12,
       "text": [
        "{u'optypes': [u'numeric'],\n",
        " u'type': u'numeric',\n",
        " u'types': [u'numeric'],\n",
        " u'value': 3}"
       ]
      }
     ],
     "prompt_number": 12
    },
    {
     "cell_type": "code",
     "collapsed": false,
     "input": [
      "interpreter.check_lisp('(+ 2')"
     ],
     "language": "python",
     "metadata": {},
     "outputs": [
      {
       "metadata": {},
       "output_type": "pyout",
       "prompt_number": 13,
       "text": [
        "{u'error': {u'code': -1, u'message': u'unparsable string: EOF while reading'}}"
       ]
      }
     ],
     "prompt_number": 13
    },
    {
     "cell_type": "code",
     "collapsed": false,
     "input": [
      "interpreter.check_lisp('(f 0)')"
     ],
     "language": "python",
     "metadata": {},
     "outputs": [
      {
       "metadata": {},
       "output_type": "pyout",
       "prompt_number": 14,
       "text": [
        "{u'error': {u'code': -115,\n",
        "  u'message': u\"The given field identifier doesn't exist: 0 in (field 0)\"}}"
       ]
      }
     ],
     "prompt_number": 14
    },
    {
     "cell_type": "code",
     "collapsed": false,
     "input": [
      "mock_dataset = {'dataset':{'fields': Interpreter.infer_fields([1, 'a'])}}\n",
      "mock_dataset['dataset']['fields']"
     ],
     "language": "python",
     "metadata": {},
     "outputs": [
      {
       "metadata": {},
       "output_type": "pyout",
       "prompt_number": 15,
       "text": [
        "[{'column_number': 0,\n",
        "  'datatype': 'int64',\n",
        "  'id': '000000',\n",
        "  'optype': 'numeric'},\n",
        " {'column_number': 1,\n",
        "  'datatype': 'string',\n",
        "  'id': '000001',\n",
        "  'optype': 'categorical'}]"
       ]
      }
     ],
     "prompt_number": 15
    },
    {
     "cell_type": "code",
     "collapsed": false,
     "input": [
      "interpreter.check_lisp('(field 0)', dataset=mock_dataset)"
     ],
     "language": "python",
     "metadata": {},
     "outputs": [
      {
       "metadata": {},
       "output_type": "pyout",
       "prompt_number": 16,
       "text": [
        "{u'optypes': [u'numeric'],\n",
        " u'type': u'numeric',\n",
        " u'types': [u'numeric'],\n",
        " u'value': None}"
       ]
      }
     ],
     "prompt_number": 16
    },
    {
     "cell_type": "code",
     "collapsed": false,
     "input": [
      "test_rows = [[1, 'a'], [2, 'b'], [23, 'd']]\n",
      "interpreter.apply_lisp('(fields 1 0)', test_rows)"
     ],
     "language": "python",
     "metadata": {},
     "outputs": [
      {
       "metadata": {},
       "output_type": "pyout",
       "prompt_number": 17,
       "text": [
        "[[u'a', 1], [u'b', 2], [u'd', 23]]"
       ]
      }
     ],
     "prompt_number": 17
    },
    {
     "cell_type": "code",
     "collapsed": false,
     "input": [
      "simple_arith = '(list (+ 2 (f 0)))'\n",
      "interpreter.apply_lisp('(list (+ 2 (f 0)) (- (f 0) (f 0 -1)))', test_rows)"
     ],
     "language": "python",
     "metadata": {},
     "outputs": [
      {
       "metadata": {},
       "output_type": "pyout",
       "prompt_number": 18,
       "text": [
        "[[3, None], [4, 1], [25, 21]]"
       ]
      }
     ],
     "prompt_number": 18
    },
    {
     "cell_type": "code",
     "collapsed": false,
     "input": [
      "from flatline.sampler import Sampler"
     ],
     "language": "python",
     "metadata": {},
     "outputs": [],
     "prompt_number": 19
    },
    {
     "cell_type": "code",
     "collapsed": false,
     "input": [
      "sample = Sampler()"
     ],
     "language": "python",
     "metadata": {},
     "outputs": [],
     "prompt_number": 20
    },
    {
     "cell_type": "code",
     "collapsed": false,
     "input": [
      "sample.take_sample('dataset/54e374ab67dc09706d000283', size=5)"
     ],
     "language": "python",
     "metadata": {},
     "outputs": [],
     "prompt_number": 21
    },
    {
     "cell_type": "code",
     "collapsed": false,
     "input": [
      "sample.rows()"
     ],
     "language": "python",
     "metadata": {},
     "outputs": [
      {
       "metadata": {},
       "output_type": "pyout",
       "prompt_number": 22,
       "text": [
        "[[6.2, 2.9, 4.3, 1.3, 'Iris-versicolor'],\n",
        " [6.0, 2.2, 4.0, 1.0, 'Iris-versicolor'],\n",
        " [6.3, 2.3, 4.4, 1.3, 'Iris-versicolor'],\n",
        " [5.0, 3.5, 1.3, 0.3, 'Iris-setosa'],\n",
        " [5.8, 4.0, 1.2, 0.2, 'Iris-setosa']]"
       ]
      }
     ],
     "prompt_number": 22
    },
    {
     "cell_type": "code",
     "collapsed": false,
     "input": [
      "sample.apply_lisp('(list (f 2) (+ (f 1) (f 3)) (f 4))')"
     ],
     "language": "python",
     "metadata": {},
     "outputs": [
      {
       "metadata": {},
       "output_type": "pyout",
       "prompt_number": 23,
       "text": [
        "[[4.3, 4.2, u'Iris-versicolor'],\n",
        " [4, 3.2, u'Iris-versicolor'],\n",
        " [4.4, 3.5999999999999996, u'Iris-versicolor'],\n",
        " [1.3, 3.8, u'Iris-setosa'],\n",
        " [1.2, 4.2, u'Iris-setosa']]"
       ]
      }
     ],
     "prompt_number": 23
    },
    {
     "cell_type": "code",
     "collapsed": false,
     "input": [
      "sample.apply_lisp('(window 2 -1 1)')"
     ],
     "language": "python",
     "metadata": {},
     "outputs": [
      {
       "metadata": {},
       "output_type": "pyout",
       "prompt_number": 24,
       "text": [
        "[[None, 4.3, 4],\n",
        " [4.3, 4, 4.4],\n",
        " [4, 4.4, 1.3],\n",
        " [4.4, 1.3, 1.2],\n",
        " [1.3, 1.2, None]]"
       ]
      }
     ],
     "prompt_number": 24
    }
   ],
   "metadata": {}
  }
 ]
}