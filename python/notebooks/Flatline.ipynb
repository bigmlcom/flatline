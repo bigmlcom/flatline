{
 "metadata": {
  "name": "",
  "signature": "sha256:bc6643d5069d5632c3358d1ad9e06147804bc761e1cb237ae0dd597991f0af38"
 },
 "nbformat": 3,
 "nbformat_minor": 0,
 "worksheets": [
  {
   "cells": [
    {
     "cell_type": "code",
     "collapsed": false,
     "input": [
      "from flatline.interpreter import Interpreter"
     ],
     "language": "python",
     "metadata": {},
     "outputs": [],
     "prompt_number": 12
    },
    {
     "cell_type": "code",
     "collapsed": false,
     "input": [
      "interpreter = Interpreter()"
     ],
     "language": "python",
     "metadata": {},
     "outputs": [],
     "prompt_number": 13
    },
    {
     "cell_type": "code",
     "collapsed": false,
     "input": [
      "interpreter.check_lisp('(+ 1 2)')"
     ],
     "language": "python",
     "metadata": {},
     "outputs": [
      {
       "metadata": {},
       "output_type": "pyout",
       "prompt_number": 14,
       "text": [
        "{u'optypes': [u'numeric'],\n",
        " u'type': u'numeric',\n",
        " u'types': [u'numeric'],\n",
        " u'value': 3}"
       ]
      }
     ],
     "prompt_number": 14
    },
    {
     "cell_type": "code",
     "collapsed": false,
     "input": [
      "interpreter.check_lisp('(+ 2')"
     ],
     "language": "python",
     "metadata": {},
     "outputs": [
      {
       "metadata": {},
       "output_type": "pyout",
       "prompt_number": 15,
       "text": [
        "{u'error': {u'code': -1, u'message': u'unparsable string: EOF while reading'}}"
       ]
      }
     ],
     "prompt_number": 15
    },
    {
     "cell_type": "code",
     "collapsed": false,
     "input": [
      "field_access = '(f 0)'\n",
      "interpreter.check_lisp(field_access)"
     ],
     "language": "python",
     "metadata": {},
     "outputs": [
      {
       "metadata": {},
       "output_type": "pyout",
       "prompt_number": 16,
       "text": [
        "{u'error': {u'code': -115,\n",
        "  u'message': u\"The given field identifier doesn't exist: 0 in (field 0)\"}}"
       ]
      }
     ],
     "prompt_number": 16
    },
    {
     "cell_type": "code",
     "collapsed": false,
     "input": [
      "mock_dataset = {'dataset':{'fields': Interpreter.infer_fields([1, 'a'])}}\n",
      "mock_dataset"
     ],
     "language": "python",
     "metadata": {},
     "outputs": [
      {
       "metadata": {},
       "output_type": "pyout",
       "prompt_number": 17,
       "text": [
        "{'dataset': {'fields': [{'column_number': 0,\n",
        "    'datatype': 'int64',\n",
        "    'id': '000000',\n",
        "    'optype': 'numeric'},\n",
        "   {'column_number': 1,\n",
        "    'datatype': 'string',\n",
        "    'id': '000001',\n",
        "    'optype': 'categorical'}]}}"
       ]
      }
     ],
     "prompt_number": 17
    },
    {
     "cell_type": "code",
     "collapsed": false,
     "input": [
      "interpreter.check_lisp(field_access, mock_dataset)"
     ],
     "language": "python",
     "metadata": {},
     "outputs": [
      {
       "metadata": {},
       "output_type": "pyout",
       "prompt_number": 18,
       "text": [
        "{u'optypes': [u'numeric'],\n",
        " u'type': u'numeric',\n",
        " u'types': [u'numeric'],\n",
        " u'value': None}"
       ]
      }
     ],
     "prompt_number": 18
    },
    {
     "cell_type": "code",
     "collapsed": false,
     "input": [
      "test_rows = [[1, 'a'], [2, 'b'], [23, 'd']]\n",
      "interpreter.apply_lisp(field_access, test_rows)"
     ],
     "language": "python",
     "metadata": {},
     "outputs": [
      {
       "metadata": {},
       "output_type": "pyout",
       "prompt_number": 19,
       "text": [
        "[[1], [2], [23]]"
       ]
      }
     ],
     "prompt_number": 19
    },
    {
     "cell_type": "code",
     "collapsed": false,
     "input": [
      "simple_arith = '(list (+ 2 (f 0)))'\n",
      "interpreter.apply_lisp(simple_arith, test_rows)"
     ],
     "language": "python",
     "metadata": {},
     "outputs": [
      {
       "metadata": {},
       "output_type": "pyout",
       "prompt_number": 21,
       "text": [
        "[[3], [4], [25]]"
       ]
      }
     ],
     "prompt_number": 21
    },
    {
     "cell_type": "code",
     "collapsed": false,
     "input": [
      "from flatline.sampler import Sampler"
     ],
     "language": "python",
     "metadata": {},
     "outputs": [],
     "prompt_number": 22
    },
    {
     "cell_type": "code",
     "collapsed": false,
     "input": [
      "sample = Sampler()"
     ],
     "language": "python",
     "metadata": {},
     "outputs": [],
     "prompt_number": 23
    },
    {
     "cell_type": "code",
     "collapsed": false,
     "input": [
      "sample.take_sample('dataset/54e374ab67dc09706d000283')"
     ],
     "language": "python",
     "metadata": {},
     "outputs": [],
     "prompt_number": 24
    },
    {
     "cell_type": "code",
     "collapsed": false,
     "input": [
      "sample.rows()[1:10]"
     ],
     "language": "python",
     "metadata": {},
     "outputs": [
      {
       "metadata": {},
       "output_type": "pyout",
       "prompt_number": 25,
       "text": [
        "[[6.0, 2.2, 4.0, 1.0, 'Iris-versicolor'],\n",
        " [6.3, 2.3, 4.4, 1.3, 'Iris-versicolor'],\n",
        " [5.0, 3.5, 1.3, 0.3, 'Iris-setosa'],\n",
        " [5.8, 4.0, 1.2, 0.2, 'Iris-setosa'],\n",
        " [5.1, 3.8, 1.5, 0.3, 'Iris-setosa'],\n",
        " [4.4, 3.0, 1.3, 0.2, 'Iris-setosa'],\n",
        " [5.0, 3.4, 1.6, 0.4, 'Iris-setosa'],\n",
        " [5.8, 2.6, 4.0, 1.2, 'Iris-versicolor'],\n",
        " [5.1, 2.5, 3.0, 1.1, 'Iris-versicolor']]"
       ]
      }
     ],
     "prompt_number": 25
    },
    {
     "cell_type": "code",
     "collapsed": false,
     "input": [
      "sample.apply_lisp('(list (f 2) (+ (f 1) (f 3)) (f 4))')[1:10]"
     ],
     "language": "python",
     "metadata": {},
     "outputs": [
      {
       "metadata": {},
       "output_type": "pyout",
       "prompt_number": 26,
       "text": [
        "[[4, 3.2, u'Iris-versicolor'],\n",
        " [4.4, 3.5999999999999996, u'Iris-versicolor'],\n",
        " [1.3, 3.8, u'Iris-setosa'],\n",
        " [1.2, 4.2, u'Iris-setosa'],\n",
        " [1.5, 4.1, u'Iris-setosa'],\n",
        " [1.3, 3.2, u'Iris-setosa'],\n",
        " [1.6, 3.8, u'Iris-setosa'],\n",
        " [4, 3.8, u'Iris-versicolor'],\n",
        " [3, 3.6, u'Iris-versicolor']]"
       ]
      }
     ],
     "prompt_number": 26
    },
    {
     "cell_type": "code",
     "collapsed": false,
     "input": [
      "sample.apply_lisp('(window 2 -1 1)')[1:10]"
     ],
     "language": "python",
     "metadata": {},
     "outputs": [
      {
       "metadata": {},
       "output_type": "pyout",
       "prompt_number": 28,
       "text": [
        "[[4.3, 4, 4.4],\n",
        " [4, 4.4, 1.3],\n",
        " [4.4, 1.3, 1.2],\n",
        " [1.3, 1.2, 1.5],\n",
        " [1.2, 1.5, 1.3],\n",
        " [1.5, 1.3, 1.6],\n",
        " [1.3, 1.6, 4],\n",
        " [1.6, 4, 3],\n",
        " [4, 3, 6]]"
       ]
      }
     ],
     "prompt_number": 28
    }
   ],
   "metadata": {}
  }
 ]
}