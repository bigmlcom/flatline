{
 "metadata": {
  "name": "",
  "signature": "sha256:cfda53ee5c46ed8cf07985edb93aca93223c5cc4f0463b6ab2c3980142fcf682"
 },
 "nbformat": 3,
 "nbformat_minor": 0,
 "worksheets": [
  {
   "cells": [
    {
     "cell_type": "markdown",
     "metadata": {},
     "source": [
      "# Local Flatline Interpreter"
     ]
    },
    {
     "cell_type": "code",
     "collapsed": false,
     "input": [
      "from flatline.interpreter import Interpreter"
     ],
     "language": "python",
     "metadata": {},
     "outputs": [],
     "prompt_number": 92
    },
    {
     "cell_type": "markdown",
     "metadata": {},
     "source": [
      "We create a new local interpreter, that will use *nodejs* under the rug"
     ]
    },
    {
     "cell_type": "code",
     "collapsed": false,
     "input": [
      "interpreter = Interpreter()"
     ],
     "language": "python",
     "metadata": {},
     "outputs": [],
     "prompt_number": 93
    },
    {
     "cell_type": "markdown",
     "metadata": {},
     "source": [
      "## Available functions\n",
      "\n",
      "We can query the interpreter for all the built-in functions provided by flatline"
     ]
    },
    {
     "cell_type": "code",
     "collapsed": false,
     "input": [
      "interpreter.defined_functions()"
     ],
     "language": "python",
     "metadata": {},
     "outputs": [
      {
       "metadata": {},
       "output_type": "pyout",
       "prompt_number": 94,
       "text": [
        "[u'',\n",
        " u'!=',\n",
        " u'*',\n",
        " u'+',\n",
        " u'-',\n",
        " u'<',\n",
        " u'<=',\n",
        " u'=',\n",
        " u'>',\n",
        " u'>=',\n",
        " u'abs',\n",
        " u'acos',\n",
        " u'all',\n",
        " u'all-but',\n",
        " u'all-with-defaults',\n",
        " u'all-with-numeric-default',\n",
        " u'and',\n",
        " u'asin',\n",
        " u'atan',\n",
        " u'avg',\n",
        " u'avg-window',\n",
        " u'bin-center',\n",
        " u'bin-count',\n",
        " u'call',\n",
        " u'category-count',\n",
        " u'ceil',\n",
        " u'cond',\n",
        " u'cond-window',\n",
        " u'cons',\n",
        " u'cos',\n",
        " u'cosh',\n",
        " u'count',\n",
        " u'diff-window',\n",
        " u'div',\n",
        " u'ensure-value',\n",
        " u'ensure-weighted-value',\n",
        " u'epoch',\n",
        " u'epoch-day',\n",
        " u'epoch-fields',\n",
        " u'epoch-hour',\n",
        " u'epoch-millisecond',\n",
        " u'epoch-minute',\n",
        " u'epoch-month',\n",
        " u'epoch-second',\n",
        " u'epoch-weekday',\n",
        " u'epoch-year',\n",
        " u'exp',\n",
        " u'f',\n",
        " u'field',\n",
        " u'field-prop',\n",
        " u'fields',\n",
        " u'filter',\n",
        " u'first',\n",
        " u'floor',\n",
        " u'head',\n",
        " u'if',\n",
        " u'in',\n",
        " u'integer',\n",
        " u'language',\n",
        " u'length',\n",
        " u'levenshtein',\n",
        " u'linear-regression',\n",
        " u'list',\n",
        " u'ln',\n",
        " u'log',\n",
        " u'log10',\n",
        " u'map',\n",
        " u'matches',\n",
        " u'matches?',\n",
        " u'max',\n",
        " u'maximum',\n",
        " u'md5',\n",
        " u'mean',\n",
        " u'median',\n",
        " u'min',\n",
        " u'minimum',\n",
        " u'missing',\n",
        " u'missing-count',\n",
        " u'missing?',\n",
        " u'missing_count',\n",
        " u'mod',\n",
        " u'mode',\n",
        " u'normalize',\n",
        " u'not',\n",
        " u'nth',\n",
        " u'occurrences',\n",
        " u'or',\n",
        " u'percentile',\n",
        " u'percentile-label',\n",
        " u'population',\n",
        " u'population-fraction',\n",
        " u'pow',\n",
        " u'preferred',\n",
        " u'preferred?',\n",
        " u'quantile-label',\n",
        " u'rand',\n",
        " u'rand-int',\n",
        " u'random-value',\n",
        " u're-quote',\n",
        " u'real',\n",
        " u'replace',\n",
        " u'replace-first',\n",
        " u'rest',\n",
        " u'round',\n",
        " u'row-number',\n",
        " u'segment-label',\n",
        " u'sha1',\n",
        " u'sha256',\n",
        " u'sin',\n",
        " u'sinh',\n",
        " u'sqrt',\n",
        " u'square',\n",
        " u'standard-deviation',\n",
        " u'standard_deviation',\n",
        " u'str',\n",
        " u'subs',\n",
        " u'sum',\n",
        " u'sum-squares',\n",
        " u'sum-window',\n",
        " u'sum_squares',\n",
        " u'summary',\n",
        " u'summary-no',\n",
        " u'summary-str',\n",
        " u'tail',\n",
        " u'tan',\n",
        " u'tanh',\n",
        " u'to-degrees',\n",
        " u'to-radians',\n",
        " u'variance',\n",
        " u'vectorize',\n",
        " u'weighted-random-value',\n",
        " u'window',\n",
        " u'winnow',\n",
        " u'within-percentiles?',\n",
        " u'z-score']"
       ]
      }
     ],
     "prompt_number": 94
    },
    {
     "cell_type": "markdown",
     "metadata": {},
     "source": [
      "## Checking symbolic expressions"
     ]
    },
    {
     "cell_type": "markdown",
     "metadata": {},
     "source": [
      "The interpreter can check for us whether a Lisp or JSON s-expression is correct."
     ]
    },
    {
     "cell_type": "markdown",
     "metadata": {},
     "source": [
      "### Valid constant expressions"
     ]
    },
    {
     "cell_type": "markdown",
     "metadata": {},
     "source": [
      "Lisp s-expressions are represented as strings:"
     ]
    },
    {
     "cell_type": "code",
     "collapsed": false,
     "input": [
      "interpreter.check_lisp('(+ 1 2)')"
     ],
     "language": "python",
     "metadata": {},
     "outputs": [
      {
       "metadata": {},
       "output_type": "pyout",
       "prompt_number": 95,
       "text": [
        "{u'optypes': [u'numeric'],\n",
        " u'type': u'numeric',\n",
        " u'types': [u'numeric'],\n",
        " u'value': 3}"
       ]
      }
     ],
     "prompt_number": 95
    },
    {
     "cell_type": "markdown",
     "metadata": {},
     "source": [
      "JSON expressions are represented as Python lists of native values"
     ]
    },
    {
     "cell_type": "code",
     "collapsed": false,
     "input": [
      "interpreter.check_json([\"+\", [\"*\", 3, 5]])"
     ],
     "language": "python",
     "metadata": {},
     "outputs": [
      {
       "metadata": {},
       "output_type": "pyout",
       "prompt_number": 97,
       "text": [
        "{u'optypes': [u'numeric'],\n",
        " u'type': u'numeric',\n",
        " u'types': [u'numeric'],\n",
        " u'value': 15}"
       ]
      }
     ],
     "prompt_number": 97
    },
    {
     "cell_type": "markdown",
     "metadata": {},
     "source": [
      "### Some erroneous symbolic expressions"
     ]
    },
    {
     "cell_type": "code",
     "collapsed": false,
     "input": [
      "interpreter.check_lisp('(+ 2')"
     ],
     "language": "python",
     "metadata": {},
     "outputs": [
      {
       "metadata": {},
       "output_type": "pyout",
       "prompt_number": 98,
       "text": [
        "{u'error': {u'code': -1, u'message': u'unparsable string: EOF while reading'}}"
       ]
      }
     ],
     "prompt_number": 98
    },
    {
     "cell_type": "code",
     "collapsed": false,
     "input": [
      "interpreter.check_json([\"non-existent\", 3])"
     ],
     "language": "python",
     "metadata": {},
     "outputs": [
      {
       "metadata": {},
       "output_type": "pyout",
       "prompt_number": 99,
       "text": [
        "{u'error': {u'code': -105,\n",
        "  u'message': u'Operator not defined: \"non-existent\" in (\"non-existent\" 3)'}}"
       ]
      }
     ],
     "prompt_number": 99
    },
    {
     "cell_type": "code",
     "collapsed": false,
     "input": [
      "interpreter.check_json([\"+\", 1, \"3\"])"
     ],
     "language": "python",
     "metadata": {},
     "outputs": [
      {
       "metadata": {},
       "output_type": "pyout",
       "prompt_number": 96,
       "text": [
        "{u'error': {u'code': -120,\n",
        "  u'message': u'Invalid operand type: second argument in (\"+\" 1 \"3\") expected to have type numeric, but has type string'}}"
       ]
      }
     ],
     "prompt_number": 96
    },
    {
     "cell_type": "code",
     "collapsed": false,
     "input": [
      "interpreter.check_lisp('(f 0)')"
     ],
     "language": "python",
     "metadata": {},
     "outputs": [
      {
       "metadata": {},
       "output_type": "pyout",
       "prompt_number": 100,
       "text": [
        "{u'error': {u'code': -115,\n",
        "  u'message': u\"The given field identifier doesn't exist: 0 in (field 0)\"}}"
       ]
      }
     ],
     "prompt_number": 100
    },
    {
     "cell_type": "markdown",
     "metadata": {},
     "source": [
      "### Checking expressions that depend on input dataset fields"
     ]
    },
    {
     "cell_type": "markdown",
     "metadata": {},
     "source": [
      "The latest sexp was invalid because no dataset is known, and hence there's no \"field 0\".\n",
      "\n",
      "Let's create a mock dataset to tell the interpreter what are our fields:"
     ]
    },
    {
     "cell_type": "code",
     "collapsed": false,
     "input": [
      "mock_dataset = {'dataset':{'fields': Interpreter.infer_fields([1, 'a'])}}\n",
      "mock_dataset['dataset']['fields']"
     ],
     "language": "python",
     "metadata": {},
     "outputs": [
      {
       "metadata": {},
       "output_type": "pyout",
       "prompt_number": 101,
       "text": [
        "[{'column_number': 0,\n",
        "  'datatype': 'int64',\n",
        "  'id': '000000',\n",
        "  'optype': 'numeric'},\n",
        " {'column_number': 1,\n",
        "  'datatype': 'string',\n",
        "  'id': '000001',\n",
        "  'optype': 'categorical'}]"
       ]
      }
     ],
     "prompt_number": 101
    },
    {
     "cell_type": "markdown",
     "metadata": {},
     "source": [
      "Now the checks referring to those fields will pass:"
     ]
    },
    {
     "cell_type": "code",
     "collapsed": false,
     "input": [
      "interpreter.check_lisp('(field 0)', dataset=mock_dataset)"
     ],
     "language": "python",
     "metadata": {},
     "outputs": [
      {
       "metadata": {},
       "output_type": "pyout",
       "prompt_number": 102,
       "text": [
        "{u'optypes': [u'numeric'],\n",
        " u'type': u'numeric',\n",
        " u'types': [u'numeric'],\n",
        " u'value': None}"
       ]
      }
     ],
     "prompt_number": 102
    },
    {
     "cell_type": "code",
     "collapsed": false,
     "input": [
      "interpreter.check_json([\"f\", \"000001\"], dataset=mock_dataset)"
     ],
     "language": "python",
     "metadata": {},
     "outputs": [
      {
       "metadata": {},
       "output_type": "pyout",
       "prompt_number": 103,
       "text": [
        "{u'optypes': [u'categorical'],\n",
        " u'type': u'string',\n",
        " u'types': [u'string'],\n",
        " u'value': None}"
       ]
      }
     ],
     "prompt_number": 103
    },
    {
     "cell_type": "markdown",
     "metadata": {},
     "source": [
      "Note how the two last expressions have no associated value, because they depend on the concrete input rows to which they're applied (i.e., these expressions do not represent constant values)."
     ]
    },
    {
     "cell_type": "markdown",
     "metadata": {},
     "source": [
      "## Applying symbolic expressions"
     ]
    },
    {
     "cell_type": "markdown",
     "metadata": {},
     "source": [
      "We can apply valid symbolic expressions to local rows represented as lists of native Python values:"
     ]
    },
    {
     "cell_type": "code",
     "collapsed": true,
     "input": [
      "test_rows = [[1, 'a'], [2, 'b'], [23, 'd']]\n",
      "interpreter.apply_lisp('(fields 1 0)', test_rows)"
     ],
     "language": "python",
     "metadata": {},
     "outputs": [
      {
       "metadata": {},
       "output_type": "pyout",
       "prompt_number": 104,
       "text": [
        "[[u'a', 1], [u'b', 2], [u'd', 23]]"
       ]
      }
     ],
     "prompt_number": 104
    },
    {
     "cell_type": "code",
     "collapsed": false,
     "input": [
      "interpreter.apply_lisp('(list (+ 2 (f 0)) (- (f 0) (f 0 -1)))', test_rows)"
     ],
     "language": "python",
     "metadata": {},
     "outputs": [
      {
       "metadata": {},
       "output_type": "pyout",
       "prompt_number": 105,
       "text": [
        "[[3, None], [4, 1], [25, 21]]"
       ]
      }
     ],
     "prompt_number": 105
    },
    {
     "cell_type": "code",
     "collapsed": false,
     "input": [
      "interpreter.apply_json([\"window\", \"000001\", -1, 1], test_rows)"
     ],
     "language": "python",
     "metadata": {},
     "outputs": [
      {
       "metadata": {},
       "output_type": "pyout",
       "prompt_number": 106,
       "text": [
        "[[None, u'a', u'b'], [u'a', u'b', u'd'], [u'b', u'd', None]]"
       ]
      }
     ],
     "prompt_number": 106
    },
    {
     "cell_type": "markdown",
     "metadata": {},
     "source": [
      "In these examples, the field characteristics are guessed from the given values.  Guessing is useful for quick tests, but in real cases we should provide real dataset metadata to the apply functions."
     ]
    },
    {
     "cell_type": "markdown",
     "metadata": {},
     "source": [
      "# Extended example using remote resources"
     ]
    },
    {
     "cell_type": "code",
     "collapsed": false,
     "input": [
      "from bigml.api import BigML\n",
      "from flatline.sampler import Sampler"
     ],
     "language": "python",
     "metadata": {},
     "outputs": [],
     "prompt_number": 107
    },
    {
     "cell_type": "code",
     "collapsed": false,
     "input": [
      "api = BigML()"
     ],
     "language": "python",
     "metadata": {},
     "outputs": [],
     "prompt_number": 108
    },
    {
     "cell_type": "markdown",
     "metadata": {},
     "source": [
      "We start by creating a dataset from Quandl's dataset on Apple NASDAQ"
     ]
    },
    {
     "cell_type": "code",
     "collapsed": false,
     "input": [
      "source = api.create_source('https://www.quandl.com/api/v1/datasets/GOOG/NASDAQ_AAPL.csv', args={'name':'Flatline tests'})\n",
      "api.ok(source)"
     ],
     "language": "python",
     "metadata": {},
     "outputs": [
      {
       "metadata": {},
       "output_type": "pyout",
       "prompt_number": 109,
       "text": [
        "True"
       ]
      }
     ],
     "prompt_number": 109
    },
    {
     "cell_type": "code",
     "collapsed": false,
     "input": [
      "dataset = api.create_dataset(source)\n",
      "dataset_id = dataset['resource']\n",
      "api.ok(dataset)"
     ],
     "language": "python",
     "metadata": {},
     "outputs": [],
     "prompt_number": 110
    },
    {
     "cell_type": "markdown",
     "metadata": {},
     "source": [
      "And download a sample of its rows locally, using a *Sampler* object"
     ]
    },
    {
     "cell_type": "code",
     "collapsed": true,
     "input": [
      "sampler = Sampler()"
     ],
     "language": "python",
     "metadata": {},
     "outputs": [],
     "prompt_number": 111
    },
    {
     "cell_type": "markdown",
     "metadata": {},
     "source": [
      "*Sampler*, like *Interpreter* are abstractions above the building blocks provided by the API bindings, and take care internally of waiting for resource completion and other housekeeping (that's why we don't need `api.ok()` calls here)."
     ]
    },
    {
     "cell_type": "code",
     "collapsed": false,
     "input": [
      "sampler.take_sample(dataset_id, size=5)"
     ],
     "language": "python",
     "metadata": {},
     "outputs": [],
     "prompt_number": 112
    },
    {
     "cell_type": "markdown",
     "metadata": {},
     "source": [
      "These are the rows that we have downloaded locally (plus all the associated metadata)"
     ]
    },
    {
     "cell_type": "code",
     "collapsed": false,
     "input": [
      "sampler.rows()"
     ],
     "language": "python",
     "metadata": {},
     "outputs": [
      {
       "metadata": {},
       "output_type": "pyout",
       "prompt_number": 113,
       "text": [
        "[['1997-03-25', 0.0, 2.38, 2.32, 2.36, 7035000, 1997, 3, 25, 2],\n",
        " ['1988-04-28', 0.0, 6.0, 5.89, 5.91, 6197800, 1988, 4, 28, 4],\n",
        " ['1997-02-26', 0.0, 2.45, 2.39, 2.45, 6448400, 1997, 2, 26, 3],\n",
        " ['2006-12-20', 12.35, 12.38, 12.11, 12.11, 142145458, 2006, 12, 20, 3],\n",
        " ['1982-04-29', 0.0, 2.11, 2.09, 2.09, 2569700, 1982, 4, 29, 4]]"
       ]
      }
     ],
     "prompt_number": 113
    },
    {
     "cell_type": "markdown",
     "metadata": {},
     "source": [
      "Now we can apply locally Flatline expressions and check whether they produce sensible results:"
     ]
    },
    {
     "cell_type": "code",
     "collapsed": false,
     "input": [
      "epochs = \"\"\"(let (e (epoch (f 0) \"YYYY-MM-dd\"))\n",
      "               (list (epoch-year e)\n",
      "                     (epoch-month e)\n",
      "                     (epoch-day e)))\"\"\"\n",
      "interpreter.check_lisp(epochs, dataset['object'])"
     ],
     "language": "python",
     "metadata": {},
     "outputs": [
      {
       "metadata": {},
       "output_type": "pyout",
       "prompt_number": 114,
       "text": [
        "{u'optypes': [u'numeric', u'numeric', u'numeric'],\n",
        " u'type': u'list',\n",
        " u'types': [u'numeric', u'numeric', u'numeric'],\n",
        " u'value': None}"
       ]
      }
     ],
     "prompt_number": 114
    },
    {
     "cell_type": "markdown",
     "metadata": {},
     "source": [
      "Our lisp expression seems correct, and produces three numeric values.  We can apply it to our sample rows and confirm that the outputs are in fact what we expect:"
     ]
    },
    {
     "cell_type": "code",
     "collapsed": false,
     "input": [
      "sampler.apply_lisp(epochs)"
     ],
     "language": "python",
     "metadata": {},
     "outputs": [
      {
       "metadata": {},
       "output_type": "pyout",
       "prompt_number": 115,
       "text": [
        "[[1997, 3, 25], [1988, 4, 28], [1997, 2, 26], [2006, 12, 20], [1982, 4, 29]]"
       ]
      }
     ],
     "prompt_number": 115
    },
    {
     "cell_type": "markdown",
     "metadata": {},
     "source": [
      "Once we're happy with our transformations, we ask BigML to create the new fields over the entire dataset"
     ]
    },
    {
     "cell_type": "code",
     "collapsed": false,
     "input": [
      "extended_dataset = api.create_dataset(dataset, {'new_fields':[{'field':epochs}]})\n",
      "api.ok(extended_dataset)"
     ],
     "language": "python",
     "metadata": {},
     "outputs": [
      {
       "metadata": {},
       "output_type": "pyout",
       "prompt_number": 116,
       "text": [
        "True"
       ]
      }
     ],
     "prompt_number": 116
    },
    {
     "cell_type": "markdown",
     "metadata": {},
     "source": [
      "and we confirm that the new dataset has indeed the new columns:"
     ]
    },
    {
     "cell_type": "code",
     "collapsed": true,
     "input": [
      "sampler.take_sample(extended_dataset['resource'], size=3)\n",
      "sampler.rows()"
     ],
     "language": "python",
     "metadata": {},
     "outputs": [
      {
       "metadata": {},
       "output_type": "pyout",
       "prompt_number": 118,
       "text": [
        "[['1997-03-25', 0.0, 2.38, 2.32, 2.36, 7035000, 1997, 3, 25, 2, 1997, 3, 25],\n",
        " ['1988-04-28', 0.0, 6.0, 5.89, 5.91, 6197800, 1988, 4, 28, 4, 1988, 4, 28],\n",
        " ['1997-02-26', 0.0, 2.45, 2.39, 2.45, 6448400, 1997, 2, 26, 3, 1997, 2, 26]]"
       ]
      }
     ],
     "prompt_number": 118
    }
   ],
   "metadata": {}
  }
 ]
}