{
 "metadata": {
  "name": "",
  "signature": "sha256:5f6c90855df52e6aad64fead999f7046cb9134355234d10bd54de645443b998a"
 },
 "nbformat": 3,
 "nbformat_minor": 0,
 "worksheets": [
  {
   "cells": [
    {
     "cell_type": "markdown",
     "metadata": {},
     "source": [
      "# Local Flatline Interpreter"
     ]
    },
    {
     "cell_type": "code",
     "collapsed": false,
     "input": [
      "from flatline.interpreter import Interpreter"
     ],
     "language": "python",
     "metadata": {},
     "outputs": [],
     "prompt_number": 1
    },
    {
     "cell_type": "markdown",
     "metadata": {},
     "source": [
      "We create a new local interpreter, that will use *nodejs* under the rug"
     ]
    },
    {
     "cell_type": "code",
     "collapsed": false,
     "input": [
      "interpreter = Interpreter()"
     ],
     "language": "python",
     "metadata": {},
     "outputs": [],
     "prompt_number": 2
    },
    {
     "cell_type": "markdown",
     "metadata": {},
     "source": [
      "## Available functions\n",
      "\n",
      "We can query the interpreter for all the built-in functions provided by flatline"
     ]
    },
    {
     "cell_type": "code",
     "collapsed": false,
     "input": [
      "interpreter.defined_functions()"
     ],
     "language": "python",
     "metadata": {},
     "outputs": [
      {
       "metadata": {},
       "output_type": "pyout",
       "prompt_number": 3,
       "text": [
        "[u'',\n",
        " u'!=',\n",
        " u'*',\n",
        " u'+',\n",
        " u'-',\n",
        " u'<',\n",
        " u'<=',\n",
        " u'=',\n",
        " u'>',\n",
        " u'>=',\n",
        " u'abs',\n",
        " u'acos',\n",
        " u'all',\n",
        " u'all-but',\n",
        " u'all-with-defaults',\n",
        " u'all-with-numeric-default',\n",
        " u'and',\n",
        " u'asin',\n",
        " u'atan',\n",
        " u'avg',\n",
        " u'avg-window',\n",
        " u'bin-center',\n",
        " u'bin-count',\n",
        " u'call',\n",
        " u'category-count',\n",
        " u'ceil',\n",
        " u'cond',\n",
        " u'cond-window',\n",
        " u'cons',\n",
        " u'cos',\n",
        " u'cosh',\n",
        " u'count',\n",
        " u'diff-window',\n",
        " u'div',\n",
        " u'ensure-value',\n",
        " u'ensure-weighted-value',\n",
        " u'epoch',\n",
        " u'epoch-day',\n",
        " u'epoch-fields',\n",
        " u'epoch-hour',\n",
        " u'epoch-millisecond',\n",
        " u'epoch-minute',\n",
        " u'epoch-month',\n",
        " u'epoch-second',\n",
        " u'epoch-weekday',\n",
        " u'epoch-year',\n",
        " u'exp',\n",
        " u'f',\n",
        " u'field',\n",
        " u'field-prop',\n",
        " u'fields',\n",
        " u'filter',\n",
        " u'first',\n",
        " u'floor',\n",
        " u'head',\n",
        " u'if',\n",
        " u'in',\n",
        " u'integer',\n",
        " u'language',\n",
        " u'length',\n",
        " u'levenshtein',\n",
        " u'linear-regression',\n",
        " u'list',\n",
        " u'ln',\n",
        " u'log',\n",
        " u'log10',\n",
        " u'map',\n",
        " u'matches',\n",
        " u'matches?',\n",
        " u'max',\n",
        " u'maximum',\n",
        " u'md5',\n",
        " u'mean',\n",
        " u'median',\n",
        " u'min',\n",
        " u'minimum',\n",
        " u'missing',\n",
        " u'missing-count',\n",
        " u'missing?',\n",
        " u'missing_count',\n",
        " u'mod',\n",
        " u'mode',\n",
        " u'normalize',\n",
        " u'not',\n",
        " u'nth',\n",
        " u'occurrences',\n",
        " u'or',\n",
        " u'percentile',\n",
        " u'percentile-label',\n",
        " u'population',\n",
        " u'population-fraction',\n",
        " u'pow',\n",
        " u'preferred',\n",
        " u'preferred?',\n",
        " u'quantile-label',\n",
        " u'rand',\n",
        " u'rand-int',\n",
        " u'random-value',\n",
        " u're-quote',\n",
        " u'real',\n",
        " u'replace',\n",
        " u'replace-first',\n",
        " u'rest',\n",
        " u'round',\n",
        " u'row-number',\n",
        " u'segment-label',\n",
        " u'sha1',\n",
        " u'sha256',\n",
        " u'sin',\n",
        " u'sinh',\n",
        " u'sqrt',\n",
        " u'square',\n",
        " u'standard-deviation',\n",
        " u'standard_deviation',\n",
        " u'str',\n",
        " u'subs',\n",
        " u'sum',\n",
        " u'sum-squares',\n",
        " u'sum-window',\n",
        " u'sum_squares',\n",
        " u'summary',\n",
        " u'summary-no',\n",
        " u'summary-str',\n",
        " u'tail',\n",
        " u'tan',\n",
        " u'tanh',\n",
        " u'to-degrees',\n",
        " u'to-radians',\n",
        " u'variance',\n",
        " u'vectorize',\n",
        " u'weighted-random-value',\n",
        " u'window',\n",
        " u'winnow',\n",
        " u'within-percentiles?',\n",
        " u'z-score']"
       ]
      }
     ],
     "prompt_number": 3
    },
    {
     "cell_type": "markdown",
     "metadata": {},
     "source": [
      "## Checking symbolic expressions"
     ]
    },
    {
     "cell_type": "markdown",
     "metadata": {},
     "source": [
      "The interpreter can check for us whether a Lisp or JSON s-expression is correct."
     ]
    },
    {
     "cell_type": "markdown",
     "metadata": {},
     "source": [
      "### Valid constant expressions"
     ]
    },
    {
     "cell_type": "markdown",
     "metadata": {},
     "source": [
      "Lisp s-expressions are represented as strings:"
     ]
    },
    {
     "cell_type": "code",
     "collapsed": false,
     "input": [
      "interpreter.check_lisp('(+ 1 2)')"
     ],
     "language": "python",
     "metadata": {},
     "outputs": [
      {
       "metadata": {},
       "output_type": "pyout",
       "prompt_number": 4,
       "text": [
        "{u'optypes': [u'numeric'],\n",
        " u'type': u'numeric',\n",
        " u'types': [u'numeric'],\n",
        " u'value': 3}"
       ]
      }
     ],
     "prompt_number": 4
    },
    {
     "cell_type": "markdown",
     "metadata": {},
     "source": [
      "JSON expressions are represented as Python lists of native values"
     ]
    },
    {
     "cell_type": "code",
     "collapsed": false,
     "input": [
      "interpreter.check_json([\"+\", [\"*\", 3, 5]])"
     ],
     "language": "python",
     "metadata": {},
     "outputs": [
      {
       "metadata": {},
       "output_type": "pyout",
       "prompt_number": 5,
       "text": [
        "{u'optypes': [u'numeric'],\n",
        " u'type': u'numeric',\n",
        " u'types': [u'numeric'],\n",
        " u'value': 15}"
       ]
      }
     ],
     "prompt_number": 5
    },
    {
     "cell_type": "markdown",
     "metadata": {},
     "source": [
      "### Some erroneous symbolic expressions"
     ]
    },
    {
     "cell_type": "code",
     "collapsed": false,
     "input": [
      "interpreter.check_lisp('(+ 2')"
     ],
     "language": "python",
     "metadata": {},
     "outputs": [
      {
       "metadata": {},
       "output_type": "pyout",
       "prompt_number": 6,
       "text": [
        "{u'error': {u'code': -1, u'message': u'unparsable string: EOF while reading'}}"
       ]
      }
     ],
     "prompt_number": 6
    },
    {
     "cell_type": "code",
     "collapsed": false,
     "input": [
      "interpreter.check_json([\"non-existent\", 3])"
     ],
     "language": "python",
     "metadata": {},
     "outputs": [
      {
       "metadata": {},
       "output_type": "pyout",
       "prompt_number": 7,
       "text": [
        "{u'error': {u'code': -105,\n",
        "  u'message': u'Operator not defined: \"non-existent\" in (\"non-existent\" 3)'}}"
       ]
      }
     ],
     "prompt_number": 7
    },
    {
     "cell_type": "code",
     "collapsed": false,
     "input": [
      "interpreter.check_json([\"+\", 1, \"3\"])"
     ],
     "language": "python",
     "metadata": {},
     "outputs": [
      {
       "metadata": {},
       "output_type": "pyout",
       "prompt_number": 8,
       "text": [
        "{u'error': {u'code': -120,\n",
        "  u'message': u'Invalid operand type: second argument in (\"+\" 1 \"3\") expected to have type numeric, but has type string'}}"
       ]
      }
     ],
     "prompt_number": 8
    },
    {
     "cell_type": "code",
     "collapsed": false,
     "input": [
      "interpreter.check_lisp('(f 0)')"
     ],
     "language": "python",
     "metadata": {},
     "outputs": [
      {
       "metadata": {},
       "output_type": "pyout",
       "prompt_number": 9,
       "text": [
        "{u'error': {u'code': -115,\n",
        "  u'message': u\"The given field identifier doesn't exist: 0 in (field 0)\"}}"
       ]
      }
     ],
     "prompt_number": 9
    },
    {
     "cell_type": "markdown",
     "metadata": {},
     "source": [
      "### Checking expressions that depend on input dataset fields"
     ]
    },
    {
     "cell_type": "markdown",
     "metadata": {},
     "source": [
      "The latest sexp was invalid because no dataset is known, and hence there's no \"field 0\".\n",
      "\n",
      "Let's create a mock dataset to tell the interpreter what are our fields:"
     ]
    },
    {
     "cell_type": "code",
     "collapsed": false,
     "input": [
      "mock_dataset = {'dataset':{'fields': Interpreter.infer_fields([1, 'a'])}}\n",
      "mock_dataset['dataset']['fields']"
     ],
     "language": "python",
     "metadata": {},
     "outputs": [
      {
       "metadata": {},
       "output_type": "pyout",
       "prompt_number": 10,
       "text": [
        "[{'column_number': 0,\n",
        "  'datatype': 'int64',\n",
        "  'id': '000000',\n",
        "  'optype': 'numeric'},\n",
        " {'column_number': 1,\n",
        "  'datatype': 'string',\n",
        "  'id': '000001',\n",
        "  'optype': 'categorical'}]"
       ]
      }
     ],
     "prompt_number": 10
    },
    {
     "cell_type": "markdown",
     "metadata": {},
     "source": [
      "Now the checks referring to those fields will pass:"
     ]
    },
    {
     "cell_type": "code",
     "collapsed": false,
     "input": [
      "interpreter.check_lisp('(field 0)', dataset=mock_dataset)"
     ],
     "language": "python",
     "metadata": {},
     "outputs": [
      {
       "metadata": {},
       "output_type": "pyout",
       "prompt_number": 11,
       "text": [
        "{u'optypes': [u'numeric'],\n",
        " u'type': u'numeric',\n",
        " u'types': [u'numeric'],\n",
        " u'value': None}"
       ]
      }
     ],
     "prompt_number": 11
    },
    {
     "cell_type": "code",
     "collapsed": false,
     "input": [
      "interpreter.check_json([\"f\", \"000001\"], dataset=mock_dataset)"
     ],
     "language": "python",
     "metadata": {},
     "outputs": [
      {
       "metadata": {},
       "output_type": "pyout",
       "prompt_number": 12,
       "text": [
        "{u'optypes': [u'categorical'],\n",
        " u'type': u'string',\n",
        " u'types': [u'string'],\n",
        " u'value': None}"
       ]
      }
     ],
     "prompt_number": 12
    },
    {
     "cell_type": "markdown",
     "metadata": {},
     "source": [
      "Note how the two last expressions have no associated value, because they depend on the concrete input rows to which they're applied (i.e., these expressions do not represent constant values)."
     ]
    },
    {
     "cell_type": "markdown",
     "metadata": {},
     "source": [
      "## Applying symbolic expressions"
     ]
    },
    {
     "cell_type": "markdown",
     "metadata": {},
     "source": [
      "We can apply valid symbolic expressions to local rows represented as lists of native Python values:"
     ]
    },
    {
     "cell_type": "code",
     "collapsed": false,
     "input": [
      "test_rows = [[1, 'a'], [2, 'b'], [23, 'd']]\n",
      "interpreter.apply_lisp('(fields 1 0)', test_rows)"
     ],
     "language": "python",
     "metadata": {},
     "outputs": [
      {
       "metadata": {},
       "output_type": "pyout",
       "prompt_number": 13,
       "text": [
        "[[u'a', 1], [u'b', 2], [u'd', 23]]"
       ]
      }
     ],
     "prompt_number": 13
    },
    {
     "cell_type": "code",
     "collapsed": false,
     "input": [
      "interpreter.apply_lisp('(list (+ 2 (f 0)) (- (f 0) (f 0 -1)))', test_rows)"
     ],
     "language": "python",
     "metadata": {},
     "outputs": [
      {
       "metadata": {},
       "output_type": "pyout",
       "prompt_number": 14,
       "text": [
        "[[3, None], [4, 1], [25, 21]]"
       ]
      }
     ],
     "prompt_number": 14
    },
    {
     "cell_type": "code",
     "collapsed": false,
     "input": [
      "interpreter.apply_json([\"window\", \"000001\", -1, 1], test_rows)"
     ],
     "language": "python",
     "metadata": {},
     "outputs": [
      {
       "metadata": {},
       "output_type": "pyout",
       "prompt_number": 15,
       "text": [
        "[[None, u'a', u'b'], [u'a', u'b', u'd'], [u'b', u'd', None]]"
       ]
      }
     ],
     "prompt_number": 15
    },
    {
     "cell_type": "markdown",
     "metadata": {},
     "source": [
      "In these examples, the field characteristics are guessed from the given values.  Guessing is useful for quick tests, but in real cases we should provide real dataset metadata to the apply functions."
     ]
    },
    {
     "cell_type": "markdown",
     "metadata": {},
     "source": [
      "# Extended example using remote resources"
     ]
    },
    {
     "cell_type": "code",
     "collapsed": false,
     "input": [
      "from bigml.api import BigML\n",
      "from flatline.sampler import Sampler"
     ],
     "language": "python",
     "metadata": {},
     "outputs": [],
     "prompt_number": 16
    },
    {
     "cell_type": "code",
     "collapsed": false,
     "input": [
      "api = BigML()"
     ],
     "language": "python",
     "metadata": {},
     "outputs": [],
     "prompt_number": 17
    },
    {
     "cell_type": "markdown",
     "metadata": {},
     "source": [
      "We start by creating a dataset from Quandl's dataset on Apple NASDAQ"
     ]
    },
    {
     "cell_type": "code",
     "collapsed": false,
     "input": [
      "source = api.create_source('https://www.quandl.com/api/v1/datasets/GOOG/NASDAQ_AAPL.csv', args={'name':'Flatline tests'})\n",
      "api.ok(source)"
     ],
     "language": "python",
     "metadata": {},
     "outputs": [
      {
       "metadata": {},
       "output_type": "pyout",
       "prompt_number": 18,
       "text": [
        "True"
       ]
      }
     ],
     "prompt_number": 18
    },
    {
     "cell_type": "code",
     "collapsed": false,
     "input": [
      "dataset = api.create_dataset(source)\n",
      "dataset_id = dataset['resource']\n",
      "api.ok(dataset)"
     ],
     "language": "python",
     "metadata": {},
     "outputs": [
      {
       "metadata": {},
       "output_type": "pyout",
       "prompt_number": 19,
       "text": [
        "True"
       ]
      }
     ],
     "prompt_number": 19
    },
    {
     "cell_type": "markdown",
     "metadata": {},
     "source": [
      "And download a sample of its rows locally, using a *Sampler* object"
     ]
    },
    {
     "cell_type": "code",
     "collapsed": true,
     "input": [
      "sampler = Sampler()"
     ],
     "language": "python",
     "metadata": {},
     "outputs": [],
     "prompt_number": 20
    },
    {
     "cell_type": "markdown",
     "metadata": {},
     "source": [
      "*Sampler*, like *Interpreter* are abstractions above the building blocks provided by the API bindings, and take care internally of waiting for resource completion and other housekeeping (that's why we don't need `api.ok()` calls here)."
     ]
    },
    {
     "cell_type": "code",
     "collapsed": false,
     "input": [
      "sampler.take_sample(dataset_id, size=5)"
     ],
     "language": "python",
     "metadata": {},
     "outputs": [],
     "prompt_number": 21
    },
    {
     "cell_type": "markdown",
     "metadata": {},
     "source": [
      "These are the rows that we have downloaded locally (plus all the associated metadata)"
     ]
    },
    {
     "cell_type": "code",
     "collapsed": false,
     "input": [
      "sampler.rows()"
     ],
     "language": "python",
     "metadata": {},
     "outputs": [
      {
       "metadata": {},
       "output_type": "pyout",
       "prompt_number": 22,
       "text": [
        "[['1997-03-25', 0.0, 2.38, 2.32, 2.36, 7035000, 1997, 3, 25, 2],\n",
        " ['1988-04-28', 0.0, 6.0, 5.89, 5.91, 6197800, 1988, 4, 28, 4],\n",
        " ['1997-02-26', 0.0, 2.45, 2.39, 2.45, 6448400, 1997, 2, 26, 3],\n",
        " ['2006-12-20', 12.35, 12.38, 12.11, 12.11, 142145458, 2006, 12, 20, 3],\n",
        " ['1982-04-29', 0.0, 2.11, 2.09, 2.09, 2569700, 1982, 4, 29, 4]]"
       ]
      }
     ],
     "prompt_number": 22
    },
    {
     "cell_type": "markdown",
     "metadata": {},
     "source": [
      "The sampler also keeps information on the dataset and sample metadata; e.g. the field descriptors:"
     ]
    },
    {
     "cell_type": "code",
     "collapsed": false,
     "input": [
      "[{'id':f['id'], 'name':f['name'], 'optype':f['optype']} for f in sampler.fields()]"
     ],
     "language": "python",
     "metadata": {},
     "outputs": [
      {
       "metadata": {},
       "output_type": "pyout",
       "prompt_number": 23,
       "text": [
        "[{'id': '000000', 'name': 'Date', 'optype': 'datetime'},\n",
        " {'id': '000001', 'name': 'Open', 'optype': 'numeric'},\n",
        " {'id': '000002', 'name': 'High', 'optype': 'numeric'},\n",
        " {'id': '000003', 'name': 'Low', 'optype': 'numeric'},\n",
        " {'id': '000004', 'name': 'Close', 'optype': 'numeric'},\n",
        " {'id': '000005', 'name': 'Volume', 'optype': 'numeric'},\n",
        " {'id': '000000-0', 'name': 'Date.year', 'optype': 'numeric'},\n",
        " {'id': '000000-1', 'name': 'Date.month', 'optype': 'numeric'},\n",
        " {'id': '000000-2', 'name': 'Date.day-of-month', 'optype': 'numeric'},\n",
        " {'id': '000000-3', 'name': 'Date.day-of-week', 'optype': 'numeric'}]"
       ]
      }
     ],
     "prompt_number": 23
    },
    {
     "cell_type": "markdown",
     "metadata": {},
     "source": [
      "Now we can apply locally Flatline expressions and check whether they produce sensible results.  \n",
      "\n",
      "For instance, we could normalize **Low**, **High** and **Volume**, dividing them by their mean value in the original dataset.  \n",
      "\n",
      "Let's define an auxiliary function to generate the corresponding Flatline JSON s-expressions:"
     ]
    },
    {
     "cell_type": "code",
     "collapsed": false,
     "input": [
      "def norm_field(name):\n",
      "    return [\"/\", [\"field\", name], [\"abs\", [\"mean\", name]]]\n",
      "\n",
      "norm_field('High')"
     ],
     "language": "python",
     "metadata": {},
     "outputs": [
      {
       "metadata": {},
       "output_type": "pyout",
       "prompt_number": 24,
       "text": [
        "['/', ['field', 'High'], ['abs', ['mean', 'High']]]"
       ]
      }
     ],
     "prompt_number": 24
    },
    {
     "cell_type": "markdown",
     "metadata": {},
     "source": [
      "We can use the interpreter to check the format and syntax of our generated code:"
     ]
    },
    {
     "cell_type": "code",
     "collapsed": false,
     "input": [
      "def print_as_lisp(json_sexp):\n",
      "    print interpreter.json_to_lisp(json_sexp)\n",
      "    \n",
      "print_as_lisp(norm_field('Low'))"
     ],
     "language": "python",
     "metadata": {},
     "outputs": [
      {
       "output_type": "stream",
       "stream": "stdout",
       "text": [
        "(/ (field \"Low\") (abs (mean \"Low\")))\n"
       ]
      }
     ],
     "prompt_number": 25
    },
    {
     "cell_type": "markdown",
     "metadata": {},
     "source": [
      "To generate more than one value, we wrap the list of field expressions in a `list` form:"
     ]
    },
    {
     "cell_type": "code",
     "collapsed": false,
     "input": [
      "def make_list(*fields):\n",
      "    res = ['list']\n",
      "    res.extend(fields)\n",
      "    return res\n",
      "    \n",
      "norm_fields = make_list(norm_field('Low'), norm_field('High'), norm_field('Volume'))\n",
      "print_as_lisp(norm_fields)"
     ],
     "language": "python",
     "metadata": {},
     "outputs": [
      {
       "output_type": "stream",
       "stream": "stdout",
       "text": [
        "(list (/ (field \"Low\") (abs (mean \"Low\"))) (/ (field \"High\") (abs (mean \"High\"))) (/ (field \"Volume\") (abs (mean \"Volume\"))))\n"
       ]
      }
     ],
     "prompt_number": 26
    },
    {
     "cell_type": "markdown",
     "metadata": {},
     "source": [
      "And now let's check that the syntax is in fact correct:"
     ]
    },
    {
     "cell_type": "code",
     "collapsed": true,
     "input": [
      "interpreter.check_json(norm_fields, dataset['object'])"
     ],
     "language": "python",
     "metadata": {},
     "outputs": [
      {
       "metadata": {},
       "output_type": "pyout",
       "prompt_number": 27,
       "text": [
        "{u'optypes': [u'numeric', u'numeric', u'numeric'],\n",
        " u'type': u'list',\n",
        " u'types': [u'numeric', u'numeric', u'numeric'],\n",
        " u'value': None}"
       ]
      }
     ],
     "prompt_number": 27
    },
    {
     "cell_type": "markdown",
     "metadata": {},
     "source": [
      "Our lisp expression seems correct, and produces three numeric values.  We can apply it to our sample rows and confirm that the outputs are in fact what we expect:"
     ]
    },
    {
     "cell_type": "code",
     "collapsed": false,
     "input": [
      "sampler.apply_json(norm_fields)"
     ],
     "language": "python",
     "metadata": {},
     "outputs": [
      {
       "metadata": {},
       "output_type": "pyout",
       "prompt_number": 28,
       "text": [
        "[[0.14951806203968415, 0.1497320551164953, 0.09769395049528536],\n",
        " [0.37959542474730157, 0.37747576920124865, 0.0860678843467917],\n",
        " [0.15402938287708842, 0.15413593909050988, 0.08954792755846455],\n",
        " [0.7804585048709375, 0.7788583371185764, 1.973951860267472],\n",
        " [0.13469515071678442, 0.1327456455024391, 0.035685024106287815]]"
       ]
      }
     ],
     "prompt_number": 28
    },
    {
     "cell_type": "markdown",
     "metadata": {},
     "source": [
      "Looks good so far.  Let's say we want to predict whether the stock will go up or down based on the Open and Close values of the **previous day** and today's Open value.  We can access the value of a previous row with `(field name -1)`:"
     ]
    },
    {
     "cell_type": "code",
     "collapsed": false,
     "input": [
      "def previous_day(name):\n",
      "    return [\"field\", name, -1]\n",
      "\n",
      "open_close_fields = make_list(previous_day('Open'), \n",
      "                              previous_day('Close'))\n",
      "\n",
      "print_as_lisp(open_close_fields)"
     ],
     "language": "python",
     "metadata": {},
     "outputs": [
      {
       "output_type": "stream",
       "stream": "stdout",
       "text": [
        "(list (field \"Open\" -1) (field \"Close\" -1))\n"
       ]
      }
     ],
     "prompt_number": 29
    },
    {
     "cell_type": "markdown",
     "metadata": {},
     "source": [
      "Let's check it's a good Flatline expression and see how it works on our local sample:"
     ]
    },
    {
     "cell_type": "code",
     "collapsed": false,
     "input": [
      "interpreter.check_json(open_close_fields, dataset=dataset['object'])"
     ],
     "language": "python",
     "metadata": {},
     "outputs": [
      {
       "metadata": {},
       "output_type": "pyout",
       "prompt_number": 30,
       "text": [
        "{u'optypes': [u'numeric', u'numeric'],\n",
        " u'type': u'list',\n",
        " u'types': [u'numeric', u'numeric'],\n",
        " u'value': None}"
       ]
      }
     ],
     "prompt_number": 30
    },
    {
     "cell_type": "code",
     "collapsed": false,
     "input": [
      "sampler.apply_json(open_close_fields)"
     ],
     "language": "python",
     "metadata": {},
     "outputs": [
      {
       "metadata": {},
       "output_type": "pyout",
       "prompt_number": 31,
       "text": [
        "[[None, None], [0, 2.36], [0, 5.91], [0, 2.45], [12.35, 12.11]]"
       ]
      }
     ],
     "prompt_number": 31
    },
    {
     "cell_type": "markdown",
     "metadata": {},
     "source": [
      "Note how the entries for the previous day Open and Close values are `None` in the first row, since there's no previous day!\n",
      "\n",
      "Finally, let's define our objective field, **UpOrDown**:"
     ]
    },
    {
     "cell_type": "code",
     "collapsed": false,
     "input": [
      "up_or_down = '(if (> (f \"Open\") (f \"Close\")) \"down\" \"up\")'\n",
      "interpreter.check_lisp(up_or_down, dataset=dataset['object'])"
     ],
     "language": "python",
     "metadata": {},
     "outputs": [
      {
       "metadata": {},
       "output_type": "pyout",
       "prompt_number": 32,
       "text": [
        "{u'optypes': [u'categorical'],\n",
        " u'type': u'string',\n",
        " u'types': [u'string'],\n",
        " u'value': None}"
       ]
      }
     ],
     "prompt_number": 32
    },
    {
     "cell_type": "code",
     "collapsed": false,
     "input": [
      "sampler.apply_lisp(up_or_down)"
     ],
     "language": "python",
     "metadata": {},
     "outputs": [
      {
       "metadata": {},
       "output_type": "pyout",
       "prompt_number": 33,
       "text": [
        "[[u'up'], [u'up'], [u'up'], [u'down'], [u'up']]"
       ]
      }
     ],
     "prompt_number": 33
    },
    {
     "cell_type": "markdown",
     "metadata": {},
     "source": [
      "Once we're happy with our transformations, we ask BigML to create the new fields over the entire dataset"
     ]
    },
    {
     "cell_type": "code",
     "collapsed": false,
     "input": [
      "norm_fields_sexp = interpreter.json_to_lisp(norm_fields)\n",
      "open_close_sexp = interpreter.json_to_lisp(open_close_fields)\n",
      "\n",
      "extended_dataset = api.create_dataset(dataset, {'new_fields':[{'field':norm_fields_sexp, 'names':['NLow', 'NHigh', 'NVol']},\n",
      "                                                              {'field':open_close_sexp, 'names':['Open-1', 'Close-1']},\n",
      "                                                              {'field':up_or_down, 'name': 'Up or down'}]})\n",
      "api.ok(extended_dataset)"
     ],
     "language": "python",
     "metadata": {},
     "outputs": [
      {
       "metadata": {},
       "output_type": "pyout",
       "prompt_number": 34,
       "text": [
        "True"
       ]
      }
     ],
     "prompt_number": 34
    },
    {
     "cell_type": "markdown",
     "metadata": {},
     "source": [
      "and we confirm that the new dataset has indeed the new columns:"
     ]
    },
    {
     "cell_type": "code",
     "collapsed": false,
     "input": [
      "sampler.take_sample(extended_dataset['resource'], size=3)\n",
      "[{'id':f['id'], 'name':f['name'], 'optype':f['optype']} for f in sampler.fields()]"
     ],
     "language": "python",
     "metadata": {},
     "outputs": [
      {
       "metadata": {},
       "output_type": "pyout",
       "prompt_number": 35,
       "text": [
        "[{'id': '100000', 'name': 'Date', 'optype': 'datetime'},\n",
        " {'id': '100001', 'name': 'Open', 'optype': 'numeric'},\n",
        " {'id': '100002', 'name': 'High', 'optype': 'numeric'},\n",
        " {'id': '100003', 'name': 'Low', 'optype': 'numeric'},\n",
        " {'id': '100004', 'name': 'Close', 'optype': 'numeric'},\n",
        " {'id': '100005', 'name': 'Volume', 'optype': 'numeric'},\n",
        " {'id': '100006', 'name': 'Date.year', 'optype': 'numeric'},\n",
        " {'id': '100007', 'name': 'Date.month', 'optype': 'numeric'},\n",
        " {'id': '100008', 'name': 'Date.day-of-month', 'optype': 'numeric'},\n",
        " {'id': '100009', 'name': 'Date.day-of-week', 'optype': 'numeric'},\n",
        " {'id': '10000a', 'name': 'NLow', 'optype': 'numeric'},\n",
        " {'id': '10000b', 'name': 'NHigh', 'optype': 'numeric'},\n",
        " {'id': '10000c', 'name': 'NVol', 'optype': 'numeric'},\n",
        " {'id': '10000d', 'name': 'Open-1', 'optype': 'numeric'},\n",
        " {'id': '10000e', 'name': 'Close-1', 'optype': 'numeric'},\n",
        " {'id': '10000f', 'name': 'Up or down', 'optype': 'categorical'}]"
       ]
      }
     ],
     "prompt_number": 35
    },
    {
     "cell_type": "code",
     "collapsed": false,
     "input": [
      "sampler.rows()"
     ],
     "language": "python",
     "metadata": {},
     "outputs": [
      {
       "metadata": {},
       "output_type": "pyout",
       "prompt_number": 36,
       "text": [
        "[['1997-03-25',\n",
        "  0.0,\n",
        "  2.38,\n",
        "  2.32,\n",
        "  2.36,\n",
        "  7035000,\n",
        "  1997,\n",
        "  3,\n",
        "  25,\n",
        "  2,\n",
        "  0.14951806203968415,\n",
        "  0.1497320551164953,\n",
        "  0.09769395049528536,\n",
        "  0.0,\n",
        "  2.39,\n",
        "  'up'],\n",
        " ['1988-04-28',\n",
        "  0.0,\n",
        "  6.0,\n",
        "  5.89,\n",
        "  5.91,\n",
        "  6197800,\n",
        "  1988,\n",
        "  4,\n",
        "  28,\n",
        "  4,\n",
        "  0.37959542474730157,\n",
        "  0.37747576920124865,\n",
        "  0.0860678843467917,\n",
        "  0.0,\n",
        "  5.86,\n",
        "  'up'],\n",
        " ['1997-02-26',\n",
        "  0.0,\n",
        "  2.45,\n",
        "  2.39,\n",
        "  2.45,\n",
        "  6448400,\n",
        "  1997,\n",
        "  2,\n",
        "  26,\n",
        "  3,\n",
        "  0.15402938287708842,\n",
        "  0.15413593909050988,\n",
        "  0.08954792755846455,\n",
        "  0.0,\n",
        "  2.43,\n",
        "  'up']]"
       ]
      }
     ],
     "prompt_number": 36
    }
   ],
   "metadata": {}
  }
 ]
}